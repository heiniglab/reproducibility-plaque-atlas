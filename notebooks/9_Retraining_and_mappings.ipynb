{
 "cells": [
  {
   "cell_type": "code",
   "execution_count": 1,
   "id": "896edc55-1cf9-43aa-ab02-df461ff1c14e",
   "metadata": {},
   "outputs": [
    {
     "name": "stderr",
     "output_type": "stream",
     "text": [
      "/home/icb/korbinian.traeuble/miniconda3/envs/jupyter-experimental/lib/python3.10/site-packages/scvi/_settings.py:63: UserWarning: Since v1.0.0, scvi-tools no longer uses a random seed by default. Run `scvi.settings.seed = 0` to reproduce results from previous versions.\n",
      "  self.seed = seed\n",
      "/home/icb/korbinian.traeuble/miniconda3/envs/jupyter-experimental/lib/python3.10/site-packages/scvi/_settings.py:70: UserWarning: Setting `dl_pin_memory_gpu_training` is deprecated in v1.0 and will be removed in v1.1. Please pass in `pin_memory` to the data loaders instead.\n",
      "  self.dl_pin_memory_gpu_training = (\n",
      "/home/icb/korbinian.traeuble/miniconda3/envs/jupyter-experimental/lib/python3.10/site-packages/tqdm/auto.py:21: TqdmWarning: IProgress not found. Please update jupyter and ipywidgets. See https://ipywidgets.readthedocs.io/en/stable/user_install.html\n",
      "  from .autonotebook import tqdm as notebook_tqdm\n",
      "WARNING:root:In order to use sagenet models, please install pytorch geometric (see https://pytorch-geometric.readthedocs.io) and \n",
      " captum (see https://github.com/pytorch/captum).\n",
      "WARNING:root:mvTCR is not installed. To use mvTCR models, please install it first using \"pip install mvtcr\"\n",
      "WARNING:root:multigrate is not installed. To use multigrate models, please install it first using \"pip install multigrate\".\n"
     ]
    }
   ],
   "source": [
    "import scanpy as sc\n",
    "import scarches\n",
    "from scarches.models.scpoli import scPoli\n",
    "import scib\n",
    "import os\n",
    "import anndata\n",
    "import numpy as np\n",
    "import pandas as pd\n",
    "import matplotlib.pyplot as plt\n",
    "import seaborn as sns\n",
    "import random"
   ]
  },
  {
   "cell_type": "code",
   "execution_count": null,
   "id": "16f7c626-4939-4857-b7e4-62c630f7d0d2",
   "metadata": {},
   "outputs": [],
   "source": []
  },
  {
   "cell_type": "markdown",
   "id": "9b0b2b16-cda5-497f-8e2f-6dc6b0e1024f",
   "metadata": {},
   "source": [
    "# Load reference"
   ]
  },
  {
   "cell_type": "code",
   "execution_count": null,
   "id": "109ea519-bd44-4036-ace6-726727b66fe1",
   "metadata": {},
   "outputs": [],
   "source": [
    "#reference = sc.read_h5ad(\"Big-Atlas-level12-log1p-hvg.h5ad\") # used for level 1\n",
    "reference = sc.read_h5ad(\"Big-Atlas-level122-log1p-hvg-rev2.h5ad\") # used for level 2 REVISION2"
   ]
  },
  {
   "cell_type": "markdown",
   "id": "296b0e07-593c-4f6c-bf3b-cea00ae28ee8",
   "metadata": {},
   "source": [
    "# Train reference"
   ]
  },
  {
   "cell_type": "markdown",
   "id": "18ef97c9-7ce7-4079-a1df-11b978b31495",
   "metadata": {
    "jp-MarkdownHeadingCollapsed": true
   },
   "source": [
    "## level 1"
   ]
  },
  {
   "cell_type": "code",
   "execution_count": 10,
   "id": "ecfe5dc5-e0ef-4fc0-a3c5-6038ee79ff2a",
   "metadata": {},
   "outputs": [
    {
     "name": "stderr",
     "output_type": "stream",
     "text": [
      "/home/icb/korbinian.traeuble/miniconda3/envs/jupyter-experimental/lib/python3.10/site-packages/scarches/models/scpoli/scpoli_model.py:151: FutureWarning: The default of observed=False is deprecated and will be changed to True in a future version of pandas. Pass observed=False to retain current behavior or observed=True to adopt the future default and silence this warning.\n",
      "  self.obs_metadata_ = adata.obs.groupby('conditions_combined').first()\n",
      "/home/icb/korbinian.traeuble/miniconda3/envs/jupyter-experimental/lib/python3.10/site-packages/scarches/models/scpoli/scpoli_model.py:156: FutureWarning: The default of observed=False is deprecated and will be changed to True in a future version of pandas. Pass observed=False to retain current behavior or observed=True to adopt the future default and silence this warning.\n",
      "  self.obs_metadata_ = adata.obs.groupby(condition_keys).first()\n",
      "/home/icb/korbinian.traeuble/miniconda3/envs/jupyter-experimental/lib/python3.10/site-packages/scarches/models/scpoli/scpoli_model.py:164: FutureWarning: Series.__getitem__ treating keys as positions is deprecated. In a future version, integer keys will always be treated as labels (consistent with DataFrame behavior). To access a value by position, use `ser.iloc[pos]`\n",
      "  adata.obs[cell_type_key][self.labeled_indices_]\n"
     ]
    },
    {
     "name": "stdout",
     "output_type": "stream",
     "text": [
      "Embedding dictionary:\n",
      " \tNum conditions: [79]\n",
      " \tEmbedding dim: [10]\n",
      "Encoder Architecture:\n",
      "\tInput Layer in, out and cond: 2000 45 10\n",
      "\tMean/Var Layer in/out: 45 10\n",
      "Decoder Architecture:\n",
      "\tFirst Layer in, out and cond:  10 45 10\n",
      "\tOutput Layer in/out:  45 2000 \n",
      "\n",
      "Initializing dataloaders\n",
      "Starting training\n",
      " |████████████████████| 100.0%  - val_loss:  203.34 - val_cvae_loss:  192.64 - val_prototype_loss:   10.71 - val_labeled_loss:    2.14\n"
     ]
    }
   ],
   "source": [
    "early_stopping_kwargs = {\n",
    "    \"early_stopping_metric\": \"val_prototype_loss\",\n",
    "    \"mode\": \"min\",\n",
    "    \"threshold\": 0,\n",
    "    \"patience\": 20,\n",
    "    \"reduce_lr\": True,\n",
    "    \"lr_patience\": 13,\n",
    "    \"lr_factor\": 0.1,\n",
    "}\n",
    "    \n",
    "scpoli_model = scPoli(\n",
    "adata=reference,\n",
    "condition_keys=\"sample\",\n",
    "cell_type_keys=\"cell_type_level1\", \n",
    "embedding_dims=10,\n",
    "recon_loss='mse',\n",
    ")\n",
    "\n",
    "scpoli_model.train(\n",
    "    n_epochs=50,\n",
    "    pretraining_epochs=40,\n",
    "    early_stopping_kwargs=early_stopping_kwargs,\n",
    "    eta=5,\n",
    ")"
   ]
  },
  {
   "cell_type": "code",
   "execution_count": 11,
   "id": "9f544b7f-e6b1-469b-989d-af422ab50be6",
   "metadata": {},
   "outputs": [],
   "source": [
    "scpoli_model.save(\"models/reference_retraining1\", overwrite=True) "
   ]
  },
  {
   "cell_type": "code",
   "execution_count": null,
   "id": "8b39ff33-4666-45a5-afe1-b16cd4fdc0bb",
   "metadata": {},
   "outputs": [],
   "source": []
  },
  {
   "cell_type": "markdown",
   "id": "c73b8dd7-ef04-40ba-99a8-fbe2049e1b49",
   "metadata": {},
   "source": [
    "## level2"
   ]
  },
  {
   "cell_type": "code",
   "execution_count": 3,
   "id": "b171b6fa-bdf4-4a31-bffe-8fd290775ba4",
   "metadata": {},
   "outputs": [
    {
     "name": "stderr",
     "output_type": "stream",
     "text": [
      "/home/icb/korbinian.traeuble/miniconda3/envs/jupyter-experimental/lib/python3.10/site-packages/scarches/models/scpoli/scpoli_model.py:151: FutureWarning: The default of observed=False is deprecated and will be changed to True in a future version of pandas. Pass observed=False to retain current behavior or observed=True to adopt the future default and silence this warning.\n",
      "  self.obs_metadata_ = adata.obs.groupby('conditions_combined').first()\n",
      "/home/icb/korbinian.traeuble/miniconda3/envs/jupyter-experimental/lib/python3.10/site-packages/scarches/models/scpoli/scpoli_model.py:156: FutureWarning: The default of observed=False is deprecated and will be changed to True in a future version of pandas. Pass observed=False to retain current behavior or observed=True to adopt the future default and silence this warning.\n",
      "  self.obs_metadata_ = adata.obs.groupby(condition_keys).first()\n",
      "/home/icb/korbinian.traeuble/miniconda3/envs/jupyter-experimental/lib/python3.10/site-packages/scarches/models/scpoli/scpoli_model.py:164: FutureWarning: Series.__getitem__ treating keys as positions is deprecated. In a future version, integer keys will always be treated as labels (consistent with DataFrame behavior). To access a value by position, use `ser.iloc[pos]`\n",
      "  adata.obs[cell_type_key][self.labeled_indices_]\n"
     ]
    },
    {
     "name": "stdout",
     "output_type": "stream",
     "text": [
      "Embedding dictionary:\n",
      " \tNum conditions: [79]\n",
      " \tEmbedding dim: [10]\n",
      "Encoder Architecture:\n",
      "\tInput Layer in, out and cond: 2000 45 10\n",
      "\tMean/Var Layer in/out: 45 10\n",
      "Decoder Architecture:\n",
      "\tFirst Layer in, out and cond:  10 45 10\n",
      "\tOutput Layer in/out:  45 2000 \n",
      "\n",
      "Initializing dataloaders\n",
      "Starting training\n",
      " |████████████████████| 100.0%  - val_loss:  207.21 - val_cvae_loss:  193.38 - val_prototype_loss:   13.83 - val_labeled_loss:    2.77\n"
     ]
    }
   ],
   "source": [
    "early_stopping_kwargs = {\n",
    "    \"early_stopping_metric\": \"val_prototype_loss\",\n",
    "    \"mode\": \"min\",\n",
    "    \"threshold\": 0,\n",
    "    \"patience\": 20,\n",
    "    \"reduce_lr\": True,\n",
    "    \"lr_patience\": 13,\n",
    "    \"lr_factor\": 0.1,\n",
    "}\n",
    "    \n",
    "scpoli_model = scPoli(\n",
    "adata=reference,\n",
    "condition_keys=\"sample\",\n",
    "cell_type_keys=\"cell_type_level2\", \n",
    "embedding_dims=10,\n",
    "recon_loss='mse',\n",
    ")\n",
    "\n",
    "scpoli_model.train(\n",
    "    n_epochs=50,\n",
    "    pretraining_epochs=40,\n",
    "    early_stopping_kwargs=early_stopping_kwargs,\n",
    "    eta=5,\n",
    ")"
   ]
  },
  {
   "cell_type": "code",
   "execution_count": 4,
   "id": "ee2073bc-d860-484e-8eda-704471a4b04c",
   "metadata": {},
   "outputs": [],
   "source": [
    "scpoli_model.save(\"models/reference_retraining22-rev2\", overwrite=True) "
   ]
  },
  {
   "cell_type": "code",
   "execution_count": null,
   "id": "351d60bc-29d7-407f-8018-22bdc7e2e730",
   "metadata": {},
   "outputs": [],
   "source": []
  }
 ],
 "metadata": {
  "kernelspec": {
   "display_name": "Python 3 (ipykernel)",
   "language": "python",
   "name": "python3"
  },
  "language_info": {
   "codemirror_mode": {
    "name": "ipython",
    "version": 3
   },
   "file_extension": ".py",
   "mimetype": "text/x-python",
   "name": "python",
   "nbconvert_exporter": "python",
   "pygments_lexer": "ipython3",
   "version": "3.12.10"
  }
 },
 "nbformat": 4,
 "nbformat_minor": 5
}
